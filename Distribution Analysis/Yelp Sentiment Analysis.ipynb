{
 "cells": [
  {
   "cell_type": "code",
   "execution_count": 53,
   "metadata": {
    "collapsed": false
   },
   "outputs": [],
   "source": [
    "import pickle\n",
    "\n",
    "with open('rawstars.p', 'rb') as s:\n",
    "    load_stars = pickle.load(s);\n",
    "with open(\"rawreviews.p\", \"rb\") as t:\n",
    "    load_reviews = pickle.load(t);"
   ]
  },
  {
   "cell_type": "code",
   "execution_count": 54,
   "metadata": {
    "collapsed": false
   },
   "outputs": [
    {
     "data": {
      "text/plain": [
       "[['love the staff  love the meat  love the place  prepare for a long line around lunch or dinner hours  \\n\\nthey ask you how you want you meat  lean or something maybe  i can t remember  just say you don t want it too fatty  \\n\\nget a half sour pickle and a hot pepper  hand cut french fries too '],\n",
       " ['super simple place but amazing nonetheless  it s been around since the  s and they still serve the same thing they started with  a bologna and salami sandwich with mustard  \\n\\nstaff was very helpful and friendly '],\n",
       " ['lester s is located in a beautiful neighborhood and has been there since   they are known for smoked meat which most deli s have but their brisket sandwich is what i come to montreal for  they ve got about  seats outside to go along with the inside  \\n\\nthe smoked meat is up there in quality and taste with schwartz s and you ll find less tourists at lester s as well '],\n",
       " ['had their chocolate almond croissant and it was amazing  so light and buttery and oh my how chocolaty \\n\\nif you re looking for a light breakfast then head out here  perfect spot for a coffee latté before heading out to the old port'],\n",
       " ['always drove past this coffee house and wondered about it  bf and i finally made the stop to try this place out \\n\\ncute  quaint coffee shop with nice muskoka chairs outside  \\n\\nbf ordered an ice coffee and really enjoyed it  guess we will be back again ']]"
      ]
     },
     "execution_count": 54,
     "metadata": {},
     "output_type": "execute_result"
    }
   ],
   "source": [
    "load_reviews"
   ]
  },
  {
   "cell_type": "code",
   "execution_count": 55,
   "metadata": {
    "collapsed": false
   },
   "outputs": [],
   "source": [
    "import json\n",
    "from nltk.corpus import stopwords\n",
    "\n",
    "def load_businesses(filename):\n",
    "    businesses = set()\n",
    "    with open(filename, 'r') as f:\n",
    "        for line in f:\n",
    "            line = line.lower()\n",
    "            business_info = json.loads(line)\n",
    "            if 'food' in business_info['categories']:\n",
    "                businesses.add(business_info['business_id'])\n",
    "    print('Total Number of Businesses: %d' %len(businesses))\n",
    "    return businesses\n",
    "\n",
    "def load_reviews():\n",
    "    businesses = load_businesses('dataset/business.json')\n",
    "    review_text = []\n",
    "    review_star = []\n",
    "    with open('dataset/review.json', 'r') as f:\n",
    "        counter = 0\n",
    "        for line in f:\n",
    "            line = line.lower()\n",
    "            review_info = json.loads(line)\n",
    "            try:\n",
    "                if review_info['business_id'] not in businesses:\n",
    "                    continue\n",
    "                \n",
    "                # TODO: filter out diff languages???\n",
    "\n",
    "                # Check first if review has star rating and text\n",
    "                star = review_info['stars']\n",
    "                text = review_info['text']\n",
    "                assert star is not None\n",
    "                assert text is not None\n",
    "\n",
    "                review_text_cleaned = []\n",
    "\n",
    "                \n",
    "                text = clean_text(text)\n",
    "                review_text_cleaned.append(text)\n",
    "                \n",
    "                review_text.append(review_text_cleaned)\n",
    "                review_star.append(star)\n",
    "                counter += 1\n",
    "\n",
    "                if (counter >= 300000):\n",
    "                    with open('rawreviews.p', 'wb') as f:\n",
    "                        pickle.dump(review_text, f)\n",
    "                    with open('rawstars.p', 'wb') as s:\n",
    "                        pickle.dump(review_star, s)\n",
    "                    return\n",
    "            except KeyError:\n",
    "                continue\n",
    "            except AssertionError:\n",
    "                continue"
   ]
  },
  {
   "cell_type": "code",
   "execution_count": 56,
   "metadata": {
    "collapsed": false,
    "scrolled": true
   },
   "outputs": [
    {
     "name": "stdout",
     "output_type": "stream",
     "text": [
      "Total Number of Businesses: 24777\n"
     ]
    }
   ],
   "source": [
    "load_reviews()"
   ]
  },
  {
   "cell_type": "raw",
   "metadata": {},
   "source": [
    "review_star"
   ]
  },
  {
   "cell_type": "code",
   "execution_count": 50,
   "metadata": {
    "collapsed": false
   },
   "outputs": [],
   "source": [
    "from nltk.tokenize import word_tokenize\n",
    "from nltk.stem import PorterStemmer, WordNetLemmatizer\n",
    "import string\n",
    "import pickle\n",
    "import collections\n",
    "import json\n",
    "import numpy as np\n",
    "\n",
    "def clean_text(text):\n",
    "    assert isinstance(text, str)\n",
    "\n",
    "    # Remove numbers from text\n",
    "    text = ''.join([c for c in text if not c.isdigit()])\n",
    "\n",
    "    # Replace punctuation from text with space\n",
    "    translator = str.maketrans(string.punctuation,' '*len(string.punctuation))\n",
    "    text = text.translate(translator)\n",
    "    \n",
    "    return text"
   ]
  },
  {
   "cell_type": "code",
   "execution_count": 5,
   "metadata": {
    "collapsed": true
   },
   "outputs": [],
   "source": [
    "x = [p for p in range(5)]"
   ]
  },
  {
   "cell_type": "code",
   "execution_count": 6,
   "metadata": {
    "collapsed": false
   },
   "outputs": [
    {
     "data": {
      "text/plain": [
       "[0, 1, 2, 3, 4]"
      ]
     },
     "execution_count": 6,
     "metadata": {},
     "output_type": "execute_result"
    }
   ],
   "source": [
    "x"
   ]
  },
  {
   "cell_type": "code",
   "execution_count": null,
   "metadata": {
    "collapsed": true
   },
   "outputs": [],
   "source": []
  }
 ],
 "metadata": {
  "kernelspec": {
   "display_name": "Python 3",
   "language": "python",
   "name": "python3"
  },
  "language_info": {
   "codemirror_mode": {
    "name": "ipython",
    "version": 3
   },
   "file_extension": ".py",
   "mimetype": "text/x-python",
   "name": "python",
   "nbconvert_exporter": "python",
   "pygments_lexer": "ipython3",
   "version": "3.5.1"
  }
 },
 "nbformat": 4,
 "nbformat_minor": 2
}
