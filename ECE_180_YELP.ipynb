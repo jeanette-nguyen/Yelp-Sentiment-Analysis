{
 "cells": [
  {
   "cell_type": "code",
   "execution_count": 1,
   "metadata": {},
   "outputs": [],
   "source": [
    "import pandas as pd\n",
    "import matplotlib.pyplot as plt\n",
    "%matplotlib inline\n",
    "import numpy as np\n",
    "\n"
   ]
  },
  {
   "cell_type": "code",
   "execution_count": 2,
   "metadata": {
    "scrolled": true
   },
   "outputs": [
    {
     "data": {
      "text/html": [
       "<div>\n",
       "<style scoped>\n",
       "    .dataframe tbody tr th:only-of-type {\n",
       "        vertical-align: middle;\n",
       "    }\n",
       "\n",
       "    .dataframe tbody tr th {\n",
       "        vertical-align: top;\n",
       "    }\n",
       "\n",
       "    .dataframe thead th {\n",
       "        text-align: right;\n",
       "    }\n",
       "</style>\n",
       "<table border=\"1\" class=\"dataframe\">\n",
       "  <thead>\n",
       "    <tr style=\"text-align: right;\">\n",
       "      <th></th>\n",
       "      <th>text</th>\n",
       "      <th>stars</th>\n",
       "    </tr>\n",
       "  </thead>\n",
       "  <tbody>\n",
       "    <tr>\n",
       "      <th>0</th>\n",
       "      <td>Love the staff, love the meat, love the place....</td>\n",
       "      <td>5</td>\n",
       "    </tr>\n",
       "    <tr>\n",
       "      <th>1</th>\n",
       "      <td>Super simple place but amazing nonetheless. It...</td>\n",
       "      <td>5</td>\n",
       "    </tr>\n",
       "    <tr>\n",
       "      <th>2</th>\n",
       "      <td>Small unassuming place that changes their menu...</td>\n",
       "      <td>5</td>\n",
       "    </tr>\n",
       "    <tr>\n",
       "      <th>3</th>\n",
       "      <td>Lester's is located in a beautiful neighborhoo...</td>\n",
       "      <td>5</td>\n",
       "    </tr>\n",
       "    <tr>\n",
       "      <th>4</th>\n",
       "      <td>Love coming here. Yes the place always needs t...</td>\n",
       "      <td>4</td>\n",
       "    </tr>\n",
       "    <tr>\n",
       "      <th>5</th>\n",
       "      <td>Had their chocolate almond croissant and it wa...</td>\n",
       "      <td>4</td>\n",
       "    </tr>\n",
       "    <tr>\n",
       "      <th>6</th>\n",
       "      <td>Cycle Pub Las Vegas was a blast! Got a groupon...</td>\n",
       "      <td>5</td>\n",
       "    </tr>\n",
       "    <tr>\n",
       "      <th>7</th>\n",
       "      <td>Who would have guess that you would be able to...</td>\n",
       "      <td>4</td>\n",
       "    </tr>\n",
       "    <tr>\n",
       "      <th>8</th>\n",
       "      <td>Always drove past this coffee house and wonder...</td>\n",
       "      <td>4</td>\n",
       "    </tr>\n",
       "    <tr>\n",
       "      <th>9</th>\n",
       "      <td>Not bad!! Love that there is a gluten-free, ve...</td>\n",
       "      <td>3</td>\n",
       "    </tr>\n",
       "    <tr>\n",
       "      <th>10</th>\n",
       "      <td>Love this place!\\n\\nPeggy is great with dogs a...</td>\n",
       "      <td>5</td>\n",
       "    </tr>\n",
       "    <tr>\n",
       "      <th>11</th>\n",
       "      <td>This is currently my parents new favourite res...</td>\n",
       "      <td>4</td>\n",
       "    </tr>\n",
       "    <tr>\n",
       "      <th>12</th>\n",
       "      <td>Server was a little rude.\\n\\nOrdered the calam...</td>\n",
       "      <td>3</td>\n",
       "    </tr>\n",
       "    <tr>\n",
       "      <th>13</th>\n",
       "      <td>I thought Tidy's Flowers had a great reputatio...</td>\n",
       "      <td>1</td>\n",
       "    </tr>\n",
       "    <tr>\n",
       "      <th>14</th>\n",
       "      <td>Wanted to check out this place due to all the ...</td>\n",
       "      <td>3</td>\n",
       "    </tr>\n",
       "  </tbody>\n",
       "</table>\n",
       "</div>"
      ],
      "text/plain": [
       "                                                 text  stars\n",
       "0   Love the staff, love the meat, love the place....      5\n",
       "1   Super simple place but amazing nonetheless. It...      5\n",
       "2   Small unassuming place that changes their menu...      5\n",
       "3   Lester's is located in a beautiful neighborhoo...      5\n",
       "4   Love coming here. Yes the place always needs t...      4\n",
       "5   Had their chocolate almond croissant and it wa...      4\n",
       "6   Cycle Pub Las Vegas was a blast! Got a groupon...      5\n",
       "7   Who would have guess that you would be able to...      4\n",
       "8   Always drove past this coffee house and wonder...      4\n",
       "9   Not bad!! Love that there is a gluten-free, ve...      3\n",
       "10  Love this place!\\n\\nPeggy is great with dogs a...      5\n",
       "11  This is currently my parents new favourite res...      4\n",
       "12  Server was a little rude.\\n\\nOrdered the calam...      3\n",
       "13  I thought Tidy's Flowers had a great reputatio...      1\n",
       "14  Wanted to check out this place due to all the ...      3"
      ]
     },
     "execution_count": 2,
     "metadata": {},
     "output_type": "execute_result"
    }
   ],
   "source": [
    "yelp_reviews=pd.read_csv(\"dataset/review.csv\",usecols=[\"stars\",\"text\"])\n",
    "yelp_reviews.head(15)\n"
   ]
  },
  {
   "cell_type": "code",
   "execution_count": null,
   "metadata": {},
   "outputs": [],
   "source": []
  },
  {
   "cell_type": "code",
   "execution_count": 3,
   "metadata": {},
   "outputs": [],
   "source": [
    "x=yelp_reviews['stars'].value_counts()\n",
    "y=x.sort_index()\n",
    "reviews = yelp_reviews[yelp_reviews['text'].map(len) > 1000]\n",
    "reviews = reviews[:100000]\n"
   ]
  },
  {
   "cell_type": "code",
   "execution_count": 4,
   "metadata": {},
   "outputs": [],
   "source": [
    "reviews[\"labels\"]= reviews[\"stars\"].apply(lambda x: 2 if x > 3  else 1 if x == 3 else 0  )\n",
    "reviews = reviews.reset_index().drop(columns='index')\n"
   ]
  },
  {
   "cell_type": "code",
   "execution_count": 8,
   "metadata": {
    "scrolled": true
   },
   "outputs": [
    {
     "name": "stdout",
     "output_type": "stream",
     "text": [
      "Came here for a friend's birthday. She had looked it up and thought it sound good. First of all, when we made reservations, they only had a 7pm time slot for us (we were looking for 8pm) and when we were there, we were seated in the lower area of the restaurant, which was pretty empty.\n",
      "\n",
      "There was an extensive menu, everything on the menu sound good, but when we got our food - there was nothing special, especially for what we paid for it. \n",
      "\n",
      "The pizza's are huge portions - so if you order it, make sure you share it.\n",
      "\n",
      "There are 3 risottos on the menu, the seasonal vegetable one is the better one. Some of the pastas were portioned differently, some were huge, others were tiny - so be careful!\n",
      "\n",
      "The food came out really fast after we ordered, so fast, that some of the food was cold (not sure if they make it in advance and just heat up afterwards). The desserts took forever to come.\n",
      "\n",
      "At the end of the night when the bill came, there was a water service charge ($12.50) for 9 people for just getting tap water. And 18% gratuity after taxes.\n",
      "\n",
      "Atmosphere was good, but other than that I do not recommend this place at all.\n"
     ]
    }
   ],
   "source": [
    "print reviews['text'][5]"
   ]
  },
  {
   "cell_type": "code",
   "execution_count": 26,
   "metadata": {},
   "outputs": [
    {
     "name": "stdout",
     "output_type": "stream",
     "text": [
      "[u'actually', u'amazing', u'area', u'asked', u'away', u'bad', u'bar', u'best', u'better', u'big', u'bit', u'called', u'came', u'car', u'check', u'cheese', u'chicken', u'come', u'd', u'day', u'definitely', u'delicious', u'did', u'didn', u'different', u'dinner', u'don', u'drinks', u'eat', u'experience', u'feel', u'food', u'fresh', u'friendly', u'going', u'good', u'got', u'great', u'home', u'hot', u'just', u'know', u'left', u'like', u'little', u'll', u'location', u'long', u'looking', u'lot', u'love', u'm', u'make', u'meal', u'menu', u'minutes', u'need', u'new', u'nice', u'night', u'order', u'ordered', u'people', u'pizza', u'place', u'pretty', u'price', u'really', u'restaurant', u'right', u'room', u's', u'said', u'salad', u'sauce', u'say', u'server', u'service', u'small', u'staff', u'sure', u't', u'table', u'thing', u'things', u'think', u'time', u'times', u'told', u'took', u'try', u've', u'vegas', u'wait', u'want', u'wanted', u'wasn', u'way', u'went', u'work']\n"
     ]
    }
   ],
   "source": [
    "from sklearn.feature_extraction.text import TfidfVectorizer\n",
    "\n",
    "tfidf = TfidfVectorizer(\n",
    "    min_df=5, max_features=100, strip_accents='unicode',lowercase =True,\n",
    "    analyzer='word', token_pattern=u'(?ui)\\\\b\\\\w*[a-z]+\\\\w*\\\\b', use_idf=True,\n",
    "    smooth_idf=True, sublinear_tf=True, stop_words = 'english').fit(reviews[\"text\"])\n",
    "\n",
    "features = tfidf.get_feature_names()\n",
    "print(features)\n"
   ]
  },
  {
   "cell_type": "code",
   "execution_count": 27,
   "metadata": {},
   "outputs": [],
   "source": [
    "X_tfidf_text = tfidf.transform(reviews[\"text\"])\n",
    "sub2 = pd.DataFrame(X_tfidf_text.toarray())#.reset_index()\n",
    "sub = reviews#.reset_index()\n",
    "#Also adding variety for better readibility\n",
    "#subdata_2['variety'] = subdata['variety']\n"
   ]
  },
  {
   "cell_type": "code",
   "execution_count": 29,
   "metadata": {},
   "outputs": [
    {
     "data": {
      "text/html": [
       "<div>\n",
       "<style scoped>\n",
       "    .dataframe tbody tr th:only-of-type {\n",
       "        vertical-align: middle;\n",
       "    }\n",
       "\n",
       "    .dataframe tbody tr th {\n",
       "        vertical-align: top;\n",
       "    }\n",
       "\n",
       "    .dataframe thead th {\n",
       "        text-align: right;\n",
       "    }\n",
       "</style>\n",
       "<table border=\"1\" class=\"dataframe\">\n",
       "  <thead>\n",
       "    <tr style=\"text-align: right;\">\n",
       "      <th></th>\n",
       "      <th>0</th>\n",
       "      <th>1</th>\n",
       "      <th>2</th>\n",
       "      <th>3</th>\n",
       "      <th>4</th>\n",
       "      <th>5</th>\n",
       "      <th>6</th>\n",
       "      <th>7</th>\n",
       "      <th>8</th>\n",
       "      <th>9</th>\n",
       "      <th>...</th>\n",
       "      <th>91</th>\n",
       "      <th>92</th>\n",
       "      <th>93</th>\n",
       "      <th>94</th>\n",
       "      <th>95</th>\n",
       "      <th>96</th>\n",
       "      <th>97</th>\n",
       "      <th>98</th>\n",
       "      <th>99</th>\n",
       "      <th>labels</th>\n",
       "    </tr>\n",
       "  </thead>\n",
       "  <tbody>\n",
       "    <tr>\n",
       "      <th>0</th>\n",
       "      <td>0.2242</td>\n",
       "      <td>0.000000</td>\n",
       "      <td>0.0</td>\n",
       "      <td>0.000000</td>\n",
       "      <td>0.0</td>\n",
       "      <td>0.000000</td>\n",
       "      <td>0.0</td>\n",
       "      <td>0.0</td>\n",
       "      <td>0.000000</td>\n",
       "      <td>0.000000</td>\n",
       "      <td>...</td>\n",
       "      <td>0.000000</td>\n",
       "      <td>0.0</td>\n",
       "      <td>0.0000</td>\n",
       "      <td>0.000000</td>\n",
       "      <td>0.000000</td>\n",
       "      <td>0.000000</td>\n",
       "      <td>0.180386</td>\n",
       "      <td>0.0</td>\n",
       "      <td>0.000000</td>\n",
       "      <td>0</td>\n",
       "    </tr>\n",
       "    <tr>\n",
       "      <th>1</th>\n",
       "      <td>0.0000</td>\n",
       "      <td>0.000000</td>\n",
       "      <td>0.0</td>\n",
       "      <td>0.000000</td>\n",
       "      <td>0.0</td>\n",
       "      <td>0.000000</td>\n",
       "      <td>0.0</td>\n",
       "      <td>0.0</td>\n",
       "      <td>0.195449</td>\n",
       "      <td>0.000000</td>\n",
       "      <td>...</td>\n",
       "      <td>0.168433</td>\n",
       "      <td>0.0</td>\n",
       "      <td>0.0000</td>\n",
       "      <td>0.191398</td>\n",
       "      <td>0.000000</td>\n",
       "      <td>0.000000</td>\n",
       "      <td>0.000000</td>\n",
       "      <td>0.0</td>\n",
       "      <td>0.000000</td>\n",
       "      <td>0</td>\n",
       "    </tr>\n",
       "    <tr>\n",
       "      <th>2</th>\n",
       "      <td>0.0000</td>\n",
       "      <td>0.000000</td>\n",
       "      <td>0.0</td>\n",
       "      <td>0.305961</td>\n",
       "      <td>0.0</td>\n",
       "      <td>0.265208</td>\n",
       "      <td>0.0</td>\n",
       "      <td>0.0</td>\n",
       "      <td>0.000000</td>\n",
       "      <td>0.000000</td>\n",
       "      <td>...</td>\n",
       "      <td>0.000000</td>\n",
       "      <td>0.0</td>\n",
       "      <td>0.0000</td>\n",
       "      <td>0.000000</td>\n",
       "      <td>0.000000</td>\n",
       "      <td>0.308185</td>\n",
       "      <td>0.000000</td>\n",
       "      <td>0.0</td>\n",
       "      <td>0.000000</td>\n",
       "      <td>1</td>\n",
       "    </tr>\n",
       "    <tr>\n",
       "      <th>3</th>\n",
       "      <td>0.0000</td>\n",
       "      <td>0.000000</td>\n",
       "      <td>0.0</td>\n",
       "      <td>0.301467</td>\n",
       "      <td>0.0</td>\n",
       "      <td>0.229810</td>\n",
       "      <td>0.0</td>\n",
       "      <td>0.0</td>\n",
       "      <td>0.000000</td>\n",
       "      <td>0.142205</td>\n",
       "      <td>...</td>\n",
       "      <td>0.000000</td>\n",
       "      <td>0.0</td>\n",
       "      <td>0.0000</td>\n",
       "      <td>0.000000</td>\n",
       "      <td>0.000000</td>\n",
       "      <td>0.127251</td>\n",
       "      <td>0.000000</td>\n",
       "      <td>0.0</td>\n",
       "      <td>0.141609</td>\n",
       "      <td>0</td>\n",
       "    </tr>\n",
       "    <tr>\n",
       "      <th>4</th>\n",
       "      <td>0.0000</td>\n",
       "      <td>0.162431</td>\n",
       "      <td>0.0</td>\n",
       "      <td>0.000000</td>\n",
       "      <td>0.0</td>\n",
       "      <td>0.148640</td>\n",
       "      <td>0.0</td>\n",
       "      <td>0.0</td>\n",
       "      <td>0.000000</td>\n",
       "      <td>0.000000</td>\n",
       "      <td>...</td>\n",
       "      <td>0.000000</td>\n",
       "      <td>0.0</td>\n",
       "      <td>0.3064</td>\n",
       "      <td>0.000000</td>\n",
       "      <td>0.145916</td>\n",
       "      <td>0.292453</td>\n",
       "      <td>0.000000</td>\n",
       "      <td>0.0</td>\n",
       "      <td>0.000000</td>\n",
       "      <td>2</td>\n",
       "    </tr>\n",
       "  </tbody>\n",
       "</table>\n",
       "<p>5 rows × 101 columns</p>\n",
       "</div>"
      ],
      "text/plain": [
       "        0         1    2         3    4         5    6    7         8  \\\n",
       "0  0.2242  0.000000  0.0  0.000000  0.0  0.000000  0.0  0.0  0.000000   \n",
       "1  0.0000  0.000000  0.0  0.000000  0.0  0.000000  0.0  0.0  0.195449   \n",
       "2  0.0000  0.000000  0.0  0.305961  0.0  0.265208  0.0  0.0  0.000000   \n",
       "3  0.0000  0.000000  0.0  0.301467  0.0  0.229810  0.0  0.0  0.000000   \n",
       "4  0.0000  0.162431  0.0  0.000000  0.0  0.148640  0.0  0.0  0.000000   \n",
       "\n",
       "          9   ...          91   92      93        94        95        96  \\\n",
       "0  0.000000   ...    0.000000  0.0  0.0000  0.000000  0.000000  0.000000   \n",
       "1  0.000000   ...    0.168433  0.0  0.0000  0.191398  0.000000  0.000000   \n",
       "2  0.000000   ...    0.000000  0.0  0.0000  0.000000  0.000000  0.308185   \n",
       "3  0.142205   ...    0.000000  0.0  0.0000  0.000000  0.000000  0.127251   \n",
       "4  0.000000   ...    0.000000  0.0  0.3064  0.000000  0.145916  0.292453   \n",
       "\n",
       "         97   98        99  labels  \n",
       "0  0.180386  0.0  0.000000       0  \n",
       "1  0.000000  0.0  0.000000       0  \n",
       "2  0.000000  0.0  0.000000       1  \n",
       "3  0.000000  0.0  0.141609       0  \n",
       "4  0.000000  0.0  0.000000       2  \n",
       "\n",
       "[5 rows x 101 columns]"
      ]
     },
     "execution_count": 29,
     "metadata": {},
     "output_type": "execute_result"
    }
   ],
   "source": [
    "sub2['labels'] = sub['labels']\n",
    "sub2.head()"
   ]
  },
  {
   "cell_type": "code",
   "execution_count": 32,
   "metadata": {},
   "outputs": [
    {
     "data": {
      "text/plain": [
       "XGBClassifier(base_score=0.5, colsample_bylevel=1, colsample_bytree=1,\n",
       "       gamma=0, learning_rate=0.05, max_delta_step=0, max_depth=30,\n",
       "       min_child_weight=1, missing=None, n_estimators=50, nthread=-1,\n",
       "       objective='multi:softprob', reg_alpha=0, reg_lambda=1,\n",
       "       scale_pos_weight=1, seed=0, silent=True, subsample=1)"
      ]
     },
     "execution_count": 32,
     "metadata": {},
     "output_type": "execute_result"
    }
   ],
   "source": [
    "from sklearn.cross_validation import train_test_split\n",
    "seed = 7\n",
    "\n",
    "#Split into train and test\n",
    "test_size = 0.2\n",
    "y = sub2['labels']\n",
    "X = sub2.drop(['labels'], axis=1)\n",
    "\n",
    "X_train, X_test, y_train, y_test = train_test_split(X, y, test_size=test_size, random_state=seed)\n",
    "# fit model no training data\n",
    "import xgboost as xgb\n",
    "clf = xgb.XGBClassifier(max_depth=30, n_estimators=50, learning_rate=0.05)\n",
    "\n",
    "clf.fit(X_train, y_train)\n",
    "\n"
   ]
  },
  {
   "cell_type": "code",
   "execution_count": 33,
   "metadata": {},
   "outputs": [
    {
     "name": "stdout",
     "output_type": "stream",
     "text": [
      "Accuracy: 68.39%\n"
     ]
    }
   ],
   "source": [
    "#Measuring accuracy\n",
    "from sklearn.metrics import accuracy_score\n",
    "y_pred = clf.predict(X_test)\n",
    "\n",
    "accuracy = accuracy_score(y_pred, y_test)\n",
    "print\"Accuracy: %.2f%%\" % (accuracy * 100.0)"
   ]
  },
  {
   "cell_type": "code",
   "execution_count": 36,
   "metadata": {},
   "outputs": [
    {
     "name": "stdout",
     "output_type": "stream",
     "text": [
      "[ 2.95010891  3.04254119  2.84295751  2.59146066  2.89813049  2.78421805\n",
      "  2.88066626  2.52006435  2.54670788  2.91706062  2.70238591  3.04795287\n",
      "  2.19333964  3.7304592   2.93020429  3.02640379  2.90900016  2.37992475\n",
      "  2.80351822  2.48215469  2.65984687  2.88086301  2.15760825  2.12132813\n",
      "  2.89659679  3.013514    2.05927658  3.1296507   2.85126473  2.45133367\n",
      "  2.89946604  1.81751931  3.02868238  2.75963147  2.42562748  1.65234159\n",
      "  2.0954573   2.00376676  2.9556776   3.14713099  1.58885122  2.31283088\n",
      "  2.92231105  1.59179264  2.32833739  2.78517129  3.12721423  2.77774823\n",
      "  2.90657444  2.76079419  2.77910994  2.14222941  2.35589155  2.9196483\n",
      "  2.54361336  2.71903959  2.92786414  2.66427375  2.27608766  2.65465451\n",
      "  2.39922751  2.34071933  2.30417153  3.94561966  1.69203781  2.49077638\n",
      "  2.90583443  1.9341338   2.44495094  2.43423489  2.93476263  1.39478743\n",
      "  2.38710468  3.20175478  2.85925633  2.50032449  3.2166009   1.93415925\n",
      "  2.78320624  2.68524963  2.55642861  1.26450954  2.70085074  2.75239492\n",
      "  2.88625599  2.46223553  1.70433947  2.82134247  2.60033952  2.63851633\n",
      "  2.41227879  2.19469276  3.05432975  2.7347844   2.49393412  2.73319872\n",
      "  2.61029827  2.37358559  2.28994019  2.90482619]\n",
      "[u'pizza', u'car', u'server', u'salad', u'hot', u'drinks', u'location', u'vegas', u'called', u'amazing', u'fresh', u'cheese', u'dinner', u'home', u'actually', u'room', u'check', u'need', u'left', u'meal', u'big', u'chicken', u'looking', u'price', u'work', u'feel', u'away', u'different', u'things', u'delicious', u'bar', u'sauce', u'eat', u'area', u'times', u'd', u'll', u'bad', u'small', u'love', u'long', u'lot', u'friendly', u'thing', u'wait', u'wanted', u'minutes', u'bit', u'table', u'staff', u'new', u'definitely', u'night', u'took', u'wasn', u'told', u'asked', u'sure', u'better', u'menu', u'best', u'say', u'want', u'pretty', u'day', u'think', u'experience', u'restaurant', u'right', u'going', u'try', u'order', u'said', u'come', u'way', u'make', u'ordered', u'little', u'know', u'people', u'went', u'nice', u've', u'came', u'did', u'm', u'didn', u'got', u'don', u'great', u'service', u'really', u'food', u'time', u'place', u'good', u'like', u'just', u's', u't']\n"
     ]
    },
    {
     "data": {
      "image/png": "[encoded data removed]",
      "text/plain": [
       "<matplotlib.figure.Figure at 0x11d28f0d0>"
      ]
     },
     "metadata": {},
     "output_type": "display_data"
    }
   ],
   "source": [
    "idf_score = tfidf.idf_\n",
    "idf_sort = np.argsort(idf_score)[::-1]\n",
    "print idf_score\n",
    "# Plot the feature importances of the forest\n",
    "plt.figure()\n",
    "plt.xlabel('word')\n",
    "plt.title(\"TF-IDF score\")\n",
    "plt.bar(range(100), idf_score[idf_sort],\n",
    "       color=\"r\",align=\"center\")\n",
    "plt.xlim([-1, X.shape[1]])\n",
    "feature_score = []\n",
    "for order in idf_sort:\n",
    "    feature_score.append(features[order])\n",
    "print feature_score\n"
   ]
  },
  {
   "cell_type": "code",
   "execution_count": 37,
   "metadata": {},
   "outputs": [
    {
     "name": "stdout",
     "output_type": "stream",
     "text": [
      "[63 13 76 73 39 27 46 92 11  1 32 15 25 38  0 70 14 56 42 53  9 16 48 66 99\n",
      " 30  4 24 84 21  6 74 28  2 87 18 45  5 78 50 47 49 33 83 93 95 55 10 82 79\n",
      " 57 20 59 89 96 88  3 80  8 54  7 75 94 65 19 85 29 68 69 34 90 60 72 17 97\n",
      " 52 61 44 41 62 98 58 91 12 22 51 23 36 26 37 77 67 31 86 64 35 43 40 71 81]\n"
     ]
    }
   ],
   "source": [
    "print idf_sort"
   ]
  },
  {
   "cell_type": "code",
   "execution_count": 38,
   "metadata": {},
   "outputs": [
    {
     "name": "stdout",
     "output_type": "stream",
     "text": [
      "Accuracy: 65.12%\n",
      "Accuracy: 67.58%\n",
      "Accuracy: 69.06%\n",
      "Accuracy: 69.05%\n",
      "Accuracy: 68.64%\n",
      "Accuracy: 68.36%\n"
     ]
    }
   ],
   "source": [
    "Depth = [2,5,10,20,50,60]\n",
    "accuracy = []\n",
    "for c in Depth:\n",
    "    clf = xgb.XGBClassifier(max_depth=c, n_estimators=60, learning_rate=0.05)\n",
    "    clf.fit(X_train, y_train)\n",
    "    y_pred = clf.predict(X_test)\n",
    "    #Measuring accuracy\n",
    "    from sklearn.metrics import accuracy_score\n",
    "    accuracy.append(accuracy_score(y_pred, y_test))\n",
    "    print(\"Accuracy: %.2f%%\" % (accuracy[-1] * 100.0))"
   ]
  },
  {
   "cell_type": "code",
   "execution_count": 41,
   "metadata": {},
   "outputs": [
    {
     "data": {
      "text/plain": [
       "(0.4, 0.8)"
      ]
     },
     "execution_count": 41,
     "metadata": {},
     "output_type": "execute_result"
    },
    {
     "data": {
      "text/plain": [
       "<matplotlib.figure.Figure at 0x11d05e110>"
      ]
     },
     "metadata": {},
     "output_type": "display_data"
    },
    {
     "data": {
      "image/png": "[encoded data removed]",
      "text/plain": [
       "<matplotlib.figure.Figure at 0x11d05ee10>"
      ]
     },
     "metadata": {},
     "output_type": "display_data"
    }
   ],
   "source": [
    "plt.figure()\n",
    "plt.figure(figsize=(12,8))\n",
    "plt.xlabel('# of estimators = 60')\n",
    "plt.title(\"XGBoost Test Accuracy Maximum Tree Depth\")\n",
    "plt.plot(Depth,accuracy)\n",
    "plt.ylim([0.4,0.8])"
   ]
  },
  {
   "cell_type": "code",
   "execution_count": null,
   "metadata": {},
   "outputs": [],
   "source": []
  }
 ],
 "metadata": {
  "kernelspec": {
   "display_name": "Python 2",
   "language": "python",
   "name": "python2"
  },
  "language_info": {
   "codemirror_mode": {
    "name": "ipython",
    "version": 2
   },
   "file_extension": ".py",
   "mimetype": "text/x-python",
   "name": "python",
   "nbconvert_exporter": "python",
   "pygments_lexer": "ipython2",
   "version": "2.7.13"
  }
 },
 "nbformat": 4,
 "nbformat_minor": 2
}
